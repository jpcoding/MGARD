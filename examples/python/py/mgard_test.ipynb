{
 "cells": [
  {
   "cell_type": "code",
   "execution_count": 1,
   "metadata": {},
   "outputs": [],
   "source": [
    "import numpy as np\n",
    "from pathlib import Path\n",
    "import sys"
   ]
  },
  {
   "cell_type": "code",
   "execution_count": 2,
   "metadata": {},
   "outputs": [],
   "source": [
    "import sys\n",
    "import ctypes\n",
    "import numpy as np\n",
    "from ctypes.util import find_library\n",
    "\n",
    "class mgard:\n",
    "\n",
    "    def __init__(self,mgard_path = None):\n",
    "\n",
    "        \"\"\"\n",
    "        init mgard\n",
    "        :parmmgard library path\n",
    "        \"\"\"\n",
    "\n",
    "        # if mgard_path ==None:\n",
    "        #     mgard_path = {\n",
    "        #         \"darwin\": \"libmgardpy.dylib\",\n",
    "        #         \"windows\": \"libmgardpy.dll\",\n",
    "        #     }.get(sys.platform, \"libmgardpy.so\")\n",
    "\n",
    "        self.mgard = ctypes.CDLL(mgard_path)\n",
    "        \n",
    "        \"\"\"\n",
    "        float * compress_decompress(float * data, int N, size_t* dims, float eb, float s, size_t& compressed_size)\n",
    "        \"\"\"\n",
    "        self.mgard.compress_decompress_float.argtypes =[\n",
    "            np.ctypeslib.ndpointer(dtype=np.float32),\n",
    "            ctypes.c_int,\n",
    "            np.ctypeslib.ndpointer(dtype=np.uint64),\n",
    "            ctypes.c_float,\n",
    "            ctypes.c_float,\n",
    "            ctypes.POINTER(ctypes.c_size_t)\n",
    "        ]\n",
    "        # ndpointer(dtype=np.float32, shape=(3,))\n",
    "        self.mgard.compress_decompress_float.restype = ctypes.POINTER(ctypes.c_float)\n",
    "\n",
    "        self.libc = ctypes.CDLL(ctypes.util.find_library('c'))\n",
    "        self.libc.free.argtypes = (ctypes.c_void_p,)\n",
    "        \n",
    "    def compress(self, data, eb, s):\n",
    "        \"\"\"\n",
    "        compress_decompress(float * data, int N, size_t* dims, float eb, float s, size_t& compressed_size)\n",
    "        \"\"\"\n",
    "        dims = np.asarray(data.shape).astype(np.uint64)\n",
    "        N = ctypes.c_int(len(dims))\n",
    "        compressed_size = ctypes.c_size_t()\n",
    "        decompressed_data = self.mgard.compress_decompress_float(data, N, dims, eb, s, ctypes.byref(compressed_size))\n",
    "        # ddata = np.empty(compressed_size.value, dtype=np.float32)\n",
    "        dd = np.ctypeslib.as_array(decompressed_data, shape=data.shape).copy()\n",
    "        # dd = np.array(decompressed_data[:np.prod(data.shape)]).reshape(data.shape)\n",
    "        ratio = (data.size * data.itemsize)/ float(compressed_size.value)\n",
    "        self.libc.free(decompressed_data)\n",
    "        print(ratio)\n",
    "        # ddata = np.array(decompressed_data[:np.prod(data.shape)]).reshape(data.shape)\n",
    "        return dd, ratio\n",
    "    \n",
    "    def verify(self, src_data, dec_data):\n",
    "        \"\"\"\n",
    "        Compare the decompressed data with original data\n",
    "        :param src_data: original data, numpy array\n",
    "        :param dec_data: decompressed data, numpy array\n",
    "        :return: max_diff, psnr, nrmse\n",
    "        \"\"\"\n",
    "        data_range = np.max(src_data) - np.min(src_data)\n",
    "        diff = src_data - dec_data\n",
    "        max_diff = np.max(abs(diff))\n",
    "        print(\"abs err={:.8G}\".format(max_diff))\n",
    "        mse = np.mean(diff ** 2)\n",
    "        nrmse = np.sqrt(mse) / data_range\n",
    "        psnr = 20 * np.log10(data_range) - 10 * np.log10(mse)\n",
    "        return max_diff, psnr, nrmse\n",
    "        "
   ]
  },
  {
   "cell_type": "code",
   "execution_count": 2,
   "metadata": {},
   "outputs": [],
   "source": [
    "import sys\n",
    "import ctypes\n",
    "import numpy as np\n",
    "from ctypes.util import find_library\n",
    "\n",
    "class mgard:\n",
    "\n",
    "    def __init__(self,mgard_path = None):\n",
    "\n",
    "        \"\"\"\n",
    "        init mgard\n",
    "        :parmmgard library path\n",
    "        \"\"\"\n",
    "\n",
    "        # if mgard_path ==None:\n",
    "        #     mgard_path = {\n",
    "        #         \"darwin\": \"libmgardpy.dylib\",\n",
    "        #         \"windows\": \"libmgardpy.dll\",\n",
    "        #     }.get(sys.platform, \"libmgardpy.so\")\n",
    "\n",
    "        self.mgard = ctypes.CDLL(mgard_path)\n",
    "        \n",
    "        \"\"\"\n",
    "        float * compress_decompress(float * data, int N, size_t* dims, float eb, float s, size_t& compressed_size)\n",
    "        \"\"\"\n",
    "        self.mgard.compress_decompress.argtypes =[ctypes.POINTER(ctypes.c_float), ctypes.POINTER(ctypes.c_float), ctypes.c_int, \n",
    "                                                  ctypes.POINTER(ctypes.c_size_t), ctypes.c_float, \n",
    "                                                  ctypes.c_float, ctypes.POINTER(ctypes.c_size_t)]\n",
    "\n",
    "        # ndpointer(dtype=np.float32, shape=(3,))\n",
    "        # self.mgard.compress_decompress_float.restype = ctypes.POINTER(ctypes.c_float)\n",
    "        \n",
    "    def compress(self, data, eb, s):\n",
    "        \"\"\"\n",
    "        compress_decompress(float * data, float* ddata, int N, size_t* dims, float eb, float s, size_t& compressed_size)\n",
    "        \"\"\"\n",
    "        data_ptr = data.ctypes.data_as(ctypes.POINTER(ctypes.c_float))\n",
    "        ddata = np.empty(data.size, dtype=np.float32)\n",
    "        ddata_ptr = ddata.ctypes.data_as(ctypes.POINTER(ctypes.c_float))\n",
    "        dims = np.asarray(data.shape).astype(np.uint64).ctypes.data_as(ctypes.POINTER(ctypes.c_size_t))\n",
    "        N = ctypes.c_int(len(data.shape))\n",
    "        compressed_size = ctypes.c_size_t()\n",
    "        self.mgard.compress_decompress_float(data_ptr, ddata_ptr, N, dims, eb, s, ctypes.byref(compressed_size))\n",
    "\n",
    "        ratio = (data.size * data.itemsize)/ float(compressed_size.value)\n",
    "        print(ratio)\n",
    "        return ddata, ratio\n",
    "    \n",
    "    def verify(self, src_data, dec_data):\n",
    "        \"\"\"\n",
    "        Compare the decompressed data with original data\n",
    "        :param src_data: original data, numpy array\n",
    "        :param dec_data: decompressed data, numpy array\n",
    "        :return: max_diff, psnr, nrmse\n",
    "        \"\"\"\n",
    "        data_range = np.max(src_data) - np.min(src_data)\n",
    "        diff = src_data - dec_data\n",
    "        max_diff = np.max(abs(diff))\n",
    "        print(\"abs err={:.8G}\".format(max_diff))\n",
    "        mse = np.mean(diff ** 2)\n",
    "        nrmse = np.sqrt(mse) / data_range\n",
    "        psnr = 20 * np.log10(data_range) - 10 * np.log10(mse)\n",
    "        return max_diff, psnr, nrmse\n",
    "        "
   ]
  },
  {
   "cell_type": "code",
   "execution_count": 3,
   "metadata": {},
   "outputs": [],
   "source": [
    "MGARD = mgard(\"/home/jp/git/MGARD/examples/python/build/libmgardpy.so\")"
   ]
  },
  {
   "cell_type": "code",
   "execution_count": 4,
   "metadata": {},
   "outputs": [],
   "source": [
    "cldhgh = np.fromfile(\"/home/jp/data/cesm/CLDHGH_1_1800_3600.dat\", dtype=np.float32).reshape(1800, 3600)"
   ]
  },
  {
   "cell_type": "code",
   "execution_count": 5,
   "metadata": {},
   "outputs": [
    {
     "ename": "ArgumentError",
     "evalue": "argument 5: <class 'TypeError'>: Don't know how to convert parameter 5",
     "output_type": "error",
     "traceback": [
      "\u001b[0;31m---------------------------------------------------------------------------\u001b[0m",
      "\u001b[0;31mArgumentError\u001b[0m                             Traceback (most recent call last)",
      "Cell \u001b[0;32mIn[5], line 1\u001b[0m\n\u001b[0;32m----> 1\u001b[0m ddata, ratrio\u001b[39m=\u001b[39m MGARD\u001b[39m.\u001b[39;49mcompress(cldhgh, \u001b[39m0.5\u001b[39;49m, \u001b[39m0\u001b[39;49m)\n",
      "Cell \u001b[0;32mIn[2], line 43\u001b[0m, in \u001b[0;36mmgard.compress\u001b[0;34m(self, data, eb, s)\u001b[0m\n\u001b[1;32m     41\u001b[0m N \u001b[39m=\u001b[39m ctypes\u001b[39m.\u001b[39mc_int(\u001b[39mlen\u001b[39m(data\u001b[39m.\u001b[39mshape))\n\u001b[1;32m     42\u001b[0m compressed_size \u001b[39m=\u001b[39m ctypes\u001b[39m.\u001b[39mc_size_t()\n\u001b[0;32m---> 43\u001b[0m \u001b[39mself\u001b[39;49m\u001b[39m.\u001b[39;49mmgard\u001b[39m.\u001b[39;49mcompress_decompress_float(data_ptr, ddata_ptr, N, dims, eb, s, ctypes\u001b[39m.\u001b[39;49mbyref(compressed_size))\n\u001b[1;32m     45\u001b[0m ratio \u001b[39m=\u001b[39m (data\u001b[39m.\u001b[39msize \u001b[39m*\u001b[39m data\u001b[39m.\u001b[39mitemsize)\u001b[39m/\u001b[39m \u001b[39mfloat\u001b[39m(compressed_size\u001b[39m.\u001b[39mvalue)\n\u001b[1;32m     46\u001b[0m \u001b[39mprint\u001b[39m(ratio)\n",
      "\u001b[0;31mArgumentError\u001b[0m: argument 5: <class 'TypeError'>: Don't know how to convert parameter 5"
     ]
    }
   ],
   "source": [
    "ddata, ratrio= MGARD.compress(cldhgh, 0.5, 0)"
   ]
  },
  {
   "cell_type": "code",
   "execution_count": null,
   "metadata": {},
   "outputs": [
    {
     "ename": "",
     "evalue": "",
     "output_type": "error",
     "traceback": [
      "\u001b[1;31mCanceled future for execute_request message before replies were done"
     ]
    },
    {
     "ename": "",
     "evalue": "",
     "output_type": "error",
     "traceback": [
      "\u001b[1;31mThe Kernel crashed while executing code in the the current cell or a previous cell. Please review the code in the cell(s) to identify a possible cause of the failure. Click <a href='https://aka.ms/vscodeJupyterKernelCrash'>here</a> for more info. View Jupyter <a href='command:jupyter.viewOutput'>log</a> for further details."
     ]
    }
   ],
   "source": [
    "ddata"
   ]
  }
 ],
 "metadata": {
  "kernelspec": {
   "display_name": "Python 3",
   "language": "python",
   "name": "python3"
  },
  "language_info": {
   "codemirror_mode": {
    "name": "ipython",
    "version": 3
   },
   "file_extension": ".py",
   "mimetype": "text/x-python",
   "name": "python",
   "nbconvert_exporter": "python",
   "pygments_lexer": "ipython3",
   "version": "3.10.6"
  },
  "orig_nbformat": 4
 },
 "nbformat": 4,
 "nbformat_minor": 2
}
