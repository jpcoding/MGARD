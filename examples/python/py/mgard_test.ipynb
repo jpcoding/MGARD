{
 "cells": [
  {
   "cell_type": "code",
   "execution_count": 1,
   "metadata": {},
   "outputs": [],
   "source": [
    "import numpy as np\n",
    "from pathlib import Path\n",
    "import sys"
   ]
  },
  {
   "cell_type": "code",
   "execution_count": 2,
   "metadata": {},
   "outputs": [],
   "source": [
    "import sys\n",
    "import ctypes\n",
    "import numpy as np\n",
    "from ctypes.util import find_library\n",
    "\n",
    "class mgard:\n",
    "\n",
    "    def __init__(self,mgard_path = None):\n",
    "\n",
    "        \"\"\"\n",
    "        init mgard\n",
    "        :parmmgard library path\n",
    "        \"\"\"\n",
    "\n",
    "        # if mgard_path ==None:\n",
    "        #     mgard_path = {\n",
    "        #         \"darwin\": \"libmgardpy.dylib\",\n",
    "        #         \"windows\": \"libmgardpy.dll\",\n",
    "        #     }.get(sys.platform, \"libmgardpy.so\")\n",
    "\n",
    "        self.mgard = ctypes.CDLL(mgard_path)\n",
    "        \n",
    "        \"\"\"\n",
    "        float * compress_decompress(float * data, int N, size_t* dims, float eb, float s, size_t& compressed_size)\n",
    "        \"\"\"\n",
    "        self.mgard.compress_decompress_float.argtypes =[\n",
    "            np.ctypeslib.ndpointer(dtype=np.float32),\n",
    "            ctypes.c_int,\n",
    "            np.ctypeslib.ndpointer(dtype=np.uint64),\n",
    "            ctypes.c_float,\n",
    "            ctypes.c_float,\n",
    "            ctypes.POINTER(ctypes.c_size_t)\n",
    "        ]\n",
    "        # ndpointer(dtype=np.float32, shape=(3,))\n",
    "        self.mgard.compress_decompress_float.restype = ctypes.POINTER(ctypes.c_float)\n",
    "\n",
    "        self.libc = ctypes.CDLL(ctypes.util.find_library('c'))\n",
    "        self.libc.free.argtypes = (ctypes.c_void_p,)\n",
    "        \n",
    "    def compress(self, data, eb, s):\n",
    "        \"\"\"\n",
    "        compress_decompress(float * data, int N, size_t* dims, float eb, float s, size_t& compressed_size)\n",
    "        \"\"\"\n",
    "        dims = np.asarray(data.shape).astype(np.uint64)\n",
    "        N = ctypes.c_int(len(dims))\n",
    "        compressed_size = ctypes.c_size_t()\n",
    "        decompressed_data = self.mgard.compress_decompress_float(data, N, dims, eb, s, ctypes.byref(compressed_size))\n",
    "        # ddata = np.empty(compressed_size.value, dtype=np.float32)\n",
    "        dd = np.ctypeslib.as_array(decompressed_data, shape=data.shape).copy()\n",
    "        # dd = np.array(decompressed_data[:np.prod(data.shape)]).reshape(data.shape)\n",
    "        ratio = (data.size * data.itemsize)/ float(compressed_size.value)\n",
    "        self.libc.free(decompressed_data)\n",
    "        print(ratio)\n",
    "        # ddata = np.array(decompressed_data[:np.prod(data.shape)]).reshape(data.shape)\n",
    "        return dd, ratio\n",
    "    \n",
    "    def verify(self, src_data, dec_data):\n",
    "        \"\"\"\n",
    "        Compare the decompressed data with original data\n",
    "        :param src_data: original data, numpy array\n",
    "        :param dec_data: decompressed data, numpy array\n",
    "        :return: max_diff, psnr, nrmse\n",
    "        \"\"\"\n",
    "        data_range = np.max(src_data) - np.min(src_data)\n",
    "        diff = src_data - dec_data\n",
    "        max_diff = np.max(abs(diff))\n",
    "        print(\"abs err={:.8G}\".format(max_diff))\n",
    "        mse = np.mean(diff ** 2)\n",
    "        nrmse = np.sqrt(mse) / data_range\n",
    "        psnr = 20 * np.log10(data_range) - 10 * np.log10(mse)\n",
    "        return max_diff, psnr, nrmse\n",
    "        "
   ]
  },
  {
   "cell_type": "code",
   "execution_count": 21,
   "metadata": {},
   "outputs": [],
   "source": [
    "import sys\n",
    "import ctypes\n",
    "import numpy as np\n",
    "from ctypes.util import find_library\n",
    "\n",
    "class mgard:\n",
    "\n",
    "    def __init__(self,mgard_path = None):\n",
    "\n",
    "        \"\"\"\n",
    "        init mgard\n",
    "        :parmmgard library path\n",
    "        \"\"\"\n",
    "\n",
    "        # if mgard_path ==None:\n",
    "        #     mgard_path = {\n",
    "        #         \"darwin\": \"libmgardpy.dylib\",\n",
    "        #         \"windows\": \"libmgardpy.dll\",\n",
    "        #     }.get(sys.platform, \"libmgardpy.so\")\n",
    "\n",
    "        self.mgard = ctypes.CDLL(mgard_path)\n",
    "        \n",
    "        \"\"\"\n",
    "        float * compress_decompress(float * data, int N, size_t* dims, float eb, float s, size_t& compressed_size)\n",
    "        \"\"\"\n",
    "        self.mgard.compress_decompress_float.argtypes =[ctypes.POINTER(ctypes.c_float), \n",
    "                                                  ctypes.POINTER(ctypes.c_float), \n",
    "                                                  ctypes.c_int, \n",
    "                                                  ctypes.POINTER(ctypes.c_size_t),\n",
    "                                                  ctypes.c_float, \n",
    "                                                  ctypes.c_float,\n",
    "                                                  ctypes.POINTER(ctypes.c_size_t)]\n",
    "\n",
    "        # ndpointer(dtype=np.float32, shape=(3,))\n",
    "        # self.mgard.compress_decompress_float.restype = ctypes.POINTER(ctypes.c_float)\n",
    "        \n",
    "    def compress(self, data, eb, s):\n",
    "        \"\"\"\n",
    "        compress_decompress(float * data, float* ddata, int N, size_t* dims, float eb, float s, size_t& compressed_size)\n",
    "        \"\"\"\n",
    "        data_ptr = data.ctypes.data_as(ctypes.POINTER(ctypes.c_float))\n",
    "        # ddata = np.z(data.size, dtype=np.float32)\n",
    "        ddata = np.zeros(data.shape, dtype=np.float32)\n",
    "        \n",
    "        ddata_ptr = ddata.ctypes.data_as(ctypes.POINTER(ctypes.c_float))\n",
    "        dims = np.asarray(data.shape).astype(np.uint64).ctypes.data_as(ctypes.POINTER(ctypes.c_size_t))\n",
    "        N = ctypes.c_int(len(data.shape))\n",
    "        print(N)\n",
    "        compressed_size = ctypes.c_size_t()\n",
    "        # eb = ctypes.c_float(eb)\n",
    "        # s = ctypes.c_float(s)\n",
    "        self.mgard.compress_decompress_float(data_ptr, ddata_ptr, N, dims, eb, s, ctypes.byref(compressed_size))\n",
    "\n",
    "        ratio = (data.size * data.itemsize)/ float(compressed_size.value)\n",
    "        print(ratio)\n",
    "        return ddata, ratio\n",
    "    \n",
    "    def verify(self, src_data, dec_data):\n",
    "        \"\"\"\n",
    "        Compare the decompressed data with original data\n",
    "        :param src_data: original data, numpy array\n",
    "        :param dec_data: decompressed data, numpy array\n",
    "        :return: max_diff, psnr, nrmse\n",
    "        \"\"\"\n",
    "        data_range = np.max(src_data) - np.min(src_data)\n",
    "        diff = src_data - dec_data\n",
    "        max_diff = np.max(abs(diff))\n",
    "        print(\"abs err={:.8G}\".format(max_diff))\n",
    "        mse = np.mean(diff ** 2)\n",
    "        nrmse = np.sqrt(mse) / data_range\n",
    "        psnr = 20 * np.log10(data_range) - 10 * np.log10(mse)\n",
    "        return max_diff, psnr, nrmse\n",
    "        "
   ]
  },
  {
   "cell_type": "code",
   "execution_count": 25,
   "metadata": {},
   "outputs": [],
   "source": [
    "MGARD = mgard(\"../build/libmgardpy.dylib\")"
   ]
  },
  {
   "cell_type": "code",
   "execution_count": 23,
   "metadata": {},
   "outputs": [],
   "source": [
    "cldhgh = np.fromfile(\"/Users/pjiao/data/CESM_1800X3600/CLDHGH_1_1800_3600.dat\", dtype=np.float32).reshape(1800, 36,100)"
   ]
  },
  {
   "cell_type": "code",
   "execution_count": 26,
   "metadata": {},
   "outputs": [
    {
     "name": "stdout",
     "output_type": "stream",
     "text": [
      "c_int(3)\n",
      "mgard compress time = 6.371659 \n",
      "mgard decompress time = 6.235016 \n",
      "Min=3.374915706899628276E-07, Max=0.92075449228286743164, range=0.9207541346549987793\n",
      "Max absolute error = 0.4394391179\n",
      "Max relative error = 0.477260\n",
      "Max pw relative error = 0.000000\n",
      "PSNR = 26.630454, NRMSE= 0.046609806319314051049\n",
      "acEff=0.960578\n",
      "1003.0183422335732\n"
     ]
    }
   ],
   "source": [
    "ddata, ratrio= MGARD.compress(cldhgh, 0.5, 0)"
   ]
  },
  {
   "cell_type": "code",
   "execution_count": 8,
   "metadata": {},
   "outputs": [],
   "source": [
    "ddata = ddata.reshape(1800,3600)"
   ]
  },
  {
   "cell_type": "code",
   "execution_count": 9,
   "metadata": {},
   "outputs": [
    {
     "data": {
      "text/plain": [
       "6480000"
      ]
     },
     "execution_count": 9,
     "metadata": {},
     "output_type": "execute_result"
    }
   ],
   "source": [
    "ddata.size"
   ]
  },
  {
   "cell_type": "code",
   "execution_count": 27,
   "metadata": {},
   "outputs": [
    {
     "data": {
      "text/plain": [
       "0.47726"
      ]
     },
     "execution_count": 27,
     "metadata": {},
     "output_type": "execute_result"
    }
   ],
   "source": [
    "np.max(np.abs(cldhgh-ddata))/(cldhgh.max()-cldhgh.min())"
   ]
  }
 ],
 "metadata": {
  "kernelspec": {
   "display_name": "Python 3",
   "language": "python",
   "name": "python3"
  },
  "language_info": {
   "codemirror_mode": {
    "name": "ipython",
    "version": 3
   },
   "file_extension": ".py",
   "mimetype": "text/x-python",
   "name": "python",
   "nbconvert_exporter": "python",
   "pygments_lexer": "ipython3",
   "version": "3.11.3"
  },
  "orig_nbformat": 4
 },
 "nbformat": 4,
 "nbformat_minor": 2
}
